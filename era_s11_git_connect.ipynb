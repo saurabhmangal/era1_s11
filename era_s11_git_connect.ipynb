{
 "cells": [
  {
   "cell_type": "code",
   "execution_count": 2,
   "id": "92a71ee6",
   "metadata": {},
   "outputs": [
    {
     "name": "stdout",
     "output_type": "stream",
     "text": [
      "Cloning into 'era1_s11'...\n",
      "^C\n"
     ]
    }
   ],
   "source": [
    "!export http_proxy=http://185.46.212.90:80\n",
    "!export https_proxy=http://185.46.212.90:80        \n",
    "!git clone https://github.com/saurabhmangal/era1_s11.git"
   ]
  },
  {
   "cell_type": "code",
   "execution_count": null,
   "id": "1ece58bf",
   "metadata": {},
   "outputs": [],
   "source": []
  }
 ],
 "metadata": {
  "kernelspec": {
   "display_name": "Python 3 (ipykernel)",
   "language": "python",
   "name": "python3"
  },
  "language_info": {
   "codemirror_mode": {
    "name": "ipython",
    "version": 3
   },
   "file_extension": ".py",
   "mimetype": "text/x-python",
   "name": "python",
   "nbconvert_exporter": "python",
   "pygments_lexer": "ipython3",
   "version": "3.8.10"
  }
 },
 "nbformat": 4,
 "nbformat_minor": 5
}
